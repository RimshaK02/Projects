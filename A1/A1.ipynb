{
 "cells": [
  {
   "cell_type": "markdown",
   "metadata": {
    "id": "Mug_cKdlFtiG"
   },
   "source": [
    "## For this project, we will create a dataset consisting of black-and-white images of circles. The task is to estimate the radius and location of the ball based on the image using various Least Squares techniques.\n",
    "\n",
    "\n",
    "\n"
   ]
  },
  {
   "cell_type": "markdown",
   "metadata": {
    "id": "e85Fn5yDoycd"
   },
   "source": [
    "## Importing necessary libraries\n",
    "\n",
    "\n"
   ]
  },
  {
   "cell_type": "code",
   "execution_count": 1,
   "metadata": {
    "id": "oWZ3u-ZK2l-F"
   },
   "outputs": [],
   "source": [
    "pip install opencv-python\n",
    "import numpy as np                # NumPy: Numerical computing with arrays and matrices\n",
    "import pandas as pd               # Pandas: Data manipulation and analysis with DataFrames\n",
    "import cv2                        # OpenCV: Computer vision, image, and video processing\n",
    "import random                     # Random: Generating random numbers and selections\n",
    "import matplotlib.pyplot as plt   # Matplotlib: Creating visualizations and plots\n",
    "from PIL import Image, ImageDraw  # Pillow: Image file opening, manipulation, and saving\n",
    "from sklearn.model_selection import train_test_split  # Scikit-learn: Splitting datasets for machine learning"
   ]
  },
  {
   "cell_type": "markdown",
   "metadata": {
    "id": "15p39AfEpKGi"
   },
   "source": [
    "## Parameters"
   ]
  },
  {
   "cell_type": "code",
   "execution_count": 4,
   "metadata": {
    "id": "_SIkZcT_26gZ"
   },
   "outputs": [],
   "source": [
    "image_size = 30                       # Size of the generated images (30x30 pixels)\n",
    "min_radius = 3                        # Minimum circle radius in pixels\n",
    "max_radius = image_size // 2 - 2      # Maximum circle radius, ensuring circles fit within the image\n",
    "total_size = 2200                     # Total number of images to generate\n",
    "noise_level = 0.8                     # Noise level to add to the images\n",
    "\n",
    "csv_filename = 'generated_images_masks.csv'  # Filename for saving the generated data as a CSV"
   ]
  },
  {
   "cell_type": "markdown",
   "metadata": {
    "id": "A-GUqd-fO4m4"
   },
   "source": [
    "## Generating the Dataset\n",
    "\n",
    "This code generates a synthetic dataset of binary images with circular objects embedded within them.\n",
    "\n",
    "- **Image Size**: Each generated image is 30x30 pixels.\n",
    "- **Circle Properties**:\n",
    "  - **Radius**: Randomly chosen between 3 and 13 pixels (ensuring the circle fits within the image boundaries).\n",
    "  - **Position**: The center of the circle is randomly positioned within the image while ensuring the circle remains fully inside the image boundaries.\n",
    "- **Noise Level**: Random noise is added to each image, controlled by a `noise_level` parameter (default is 0.8).\n",
    "- **Total Images**: A total of 2,200 images are generated.\n",
    "- **Metadata**: Each image is accompanied by metadata, including the circle's radius and its center coordinates `(x, y)`.\n",
    "\n",
    "The dataset is saved as a CSV file named `generated_images_masks.csv`, where each row corresponds to a single image, with the first three columns representing the metadata (`radius`, `x`, `y`) and the remaining columns representing the flattened pixel values of the binary image.\n",
    "\n",
    "\n",
    "\n",
    "\n",
    "### Dataset Dimensions\n",
    "\n",
    "- **Feature Dimensions**: The dataset includes 900 pixel values per image. These pixel values are flattened into a 1D array to create the feature set for each image.\n",
    "- **Target Variables**: The target variables in the dataset are the circle's radius (`radius`) and its center coordinates (`x`, `y`).\n",
    "- **Overall Dataset Dimensions**: The resulting dataset has 2,200 rows (one for each image) and 903 columns (3 columns for metadata: `radius`, `x`, `y`, and 900 columns for the pixel values).\n"
   ]
  },
  {
   "cell_type": "code",
   "execution_count": 157,
   "metadata": {
    "id": "X6fYr-yr7aRa"
   },
   "outputs": [],
   "source": [
    "def generate_image_with_metadata(image_size, radius, x, y, noise_level=0.8):\n",
    "    \"\"\"\n",
    "    Generate a binary mask with a circle, add random noise, attach metadata (radius, x, y), and return the flattened mask.\n",
    "\n",
    "    noise_level: Controls the amount of random noise added (default is 0.8).\n",
    "    \"\"\"\n",
    "    # Create a black background image\n",
    "    img = Image.new('1', (image_size, image_size), color=0)\n",
    "    draw = ImageDraw.Draw(img)\n",
    "\n",
    "    # Draw the circle on the binary mask\n",
    "    draw.ellipse((x - radius, y - radius, x + radius, y + radius), fill=1)\n",
    "\n",
    "    # Add random noise to the image\n",
    "    noise = np.random.rand(image_size, image_size) > noise_level  # Generate random noise\n",
    "    noisy_mask = np.logical_and(img, noise).astype(np.float32)  # Apply noise to the mask\n",
    "\n",
    "    # Flatten the noisy mask into a 1D array\n",
    "    flattened_mask = noisy_mask.flatten()\n",
    "\n",
    "    # Store the metadata (radius, x, y)\n",
    "    metadata = [radius, x, y]\n",
    "\n",
    "    # Combine metadata with the binary mask\n",
    "    return np.array(metadata + flattened_mask.tolist())\n",
    "\n",
    "\n",
    "def generate_images_with_masks(total_size, image_size, min_radius, max_radius):\n",
    "    \"\"\"\n",
    "    Generate multiple images with masks by calling the image generation function.\n",
    "    \"\"\"\n",
    "    data = []  # List to store masks and metadata\n",
    "\n",
    "    for _ in range(total_size):\n",
    "        # Randomly choose the radius and center (x, y)\n",
    "        radius = random.randint(min_radius, max_radius)\n",
    "        x = random.randint(radius + 1, image_size - radius - 1)\n",
    "        y = random.randint(radius + 1, image_size - radius - 1)\n",
    "\n",
    "        # Generate a single image with mask and metadata\n",
    "        single_image_data = generate_image_with_metadata(image_size, radius, x, y, noise_level)\n",
    "        data.append(single_image_data)\n",
    "\n",
    "    return np.array(data)"
   ]
  },
  {
   "cell_type": "code",
   "execution_count": 159,
   "metadata": {
    "id": "lEa8xXOH8dHu"
   },
   "outputs": [
    {
     "name": "stdout",
     "output_type": "stream",
     "text": [
      "Data saved to generated_images_masks.csv\n"
     ]
    }
   ],
   "source": [
    "# Generate images with masks (returns a dataset including radius, x, y, and pixel values)\n",
    "data = generate_images_with_masks(total_size, image_size, min_radius, max_radius)\n",
    "\n",
    "# Define column names for the DataFrame: radius, x, y, and pixel values\n",
    "columns = ['radius', 'x', 'y'] + [f'Pixel_{i}' for i in range(image_size * image_size)]\n",
    "\n",
    "# Create a DataFrame from the generated data with the specified columns\n",
    "df = pd.DataFrame(data, columns=columns)\n",
    "\n",
    "# Save the DataFrame to a CSV file without including the index\n",
    "df.to_csv(csv_filename, index=False)\n",
    "\n",
    "# Notify the user that the data has been saved to the specified CSV file\n",
    "print(f\"Data saved to {csv_filename}\")"
   ]
  },
  {
   "cell_type": "markdown",
   "metadata": {
    "id": "Dj_3uhbJPODa"
   },
   "source": [
    "## Visual Exploration of Sample Data Points\n"
   ]
  },
  {
   "cell_type": "code",
   "execution_count": 161,
   "metadata": {
    "id": "2Y0ZCLfY9SZz"
   },
   "outputs": [],
   "source": [
    "# Function to visualize the image\n",
    "def visualize(image_data, image_size):\n",
    "    \"\"\"\n",
    "    Visualize the image given an array of image data and return the plot object.\n",
    "\n",
    "    Parameters:\n",
    "    - image_data: A NumPy array containing image metadata and mask.\n",
    "    - image_size: The size of the image (width and height, assumed square).\n",
    "\n",
    "    Returns:\n",
    "    - fig, ax: The matplotlib figure and axes objects for further modification.\n",
    "    \"\"\"\n",
    "    # Extract metadata from the array (radius and circle center coordinates)\n",
    "    radius = int(image_data[0])\n",
    "    x = int(image_data[1])\n",
    "    y = int(image_data[2])\n",
    "\n",
    "    # Extract the binary mask from the remaining part of the array\n",
    "    mask = image_data[3:].astype(np.uint8).reshape(image_size, image_size)\n",
    "\n",
    "    # Create a grayscale image from the mask\n",
    "    img = np.zeros((image_size, image_size), dtype=np.uint8)  # Initialize the image with zeros (black)\n",
    "    img[mask == 1] = 255  # Set the circle area to white (255)\n",
    "\n",
    "    # Create a figure and axis for plotting\n",
    "    fig, ax = plt.subplots()\n",
    "    ax.imshow(img, cmap='gray')  # Display the image in grayscale\n",
    "    ax.set_title(f\"Circle at center ({x}, {y}) with radius {radius}\")  # Set title with circle metadata\n",
    "    ax.axis('off')  # Turn off axis labels and ticks\n",
    "\n",
    "    # Return the figure and axis for further customization\n",
    "    return fig, ax"
   ]
  },
  {
   "cell_type": "code",
   "execution_count": 166,
   "metadata": {
    "id": "oCtB1orRcubo"
   },
   "outputs": [
    {
     "name": "stdin",
     "output_type": "stream",
     "text": [
      "Enter the image index:  2\n"
     ]
    },
    {
     "data": {
      "image/png": "[encoded data removed]",
      "text/plain": [
       "<Figure size 640x480 with 1 Axes>"
      ]
     },
     "metadata": {},
     "output_type": "display_data"
    }
   ],
   "source": [
    "# Read the CSV file into a DataFrame\n",
    "df = pd.read_csv(csv_filename)\n",
    "\n",
    "# Prompt the user to enter an image index and extract the corresponding row\n",
    "image_index = int(input(\"Enter the image index: \"))\n",
    "image_data = df.iloc[image_index].values  # Get the data for the specified image index\n",
    "\n",
    "# Visualize the selected image from the DataFrame\n",
    "_, _ = visualize(image_data, image_size)  # Call the visualize function to display the image"
   ]
  },
  {
   "cell_type": "markdown",
   "metadata": {
    "id": "Ut13k8BopY9D"
   },
   "source": [
    "# Section Two: Important functions\n",
    "Including OLS Solver with MSE and Data Augmentation"
   ]
  },
  {
   "cell_type": "code",
   "execution_count": 168,
   "metadata": {
    "id": "RnzSm6NvoHH5"
   },
   "outputs": [],
   "source": [
    "# Function to solve ordinary least squares (OLS)\n",
    "def solve_ols(X_train, Y_train, X_other, alpha):\n",
    "    \"\"\"\n",
    "    Solves the OLS regression problem with regularization (RLS).\n",
    "\n",
    "    Parameters:\n",
    "    - X_train: The training input data (features).\n",
    "    - Y_train: The training output data (targets).\n",
    "    - X_other: The input data (features) for the other dataset (e.g., validation or test).\n",
    "    - alpha: Regularization parameter.\n",
    "\n",
    "    Returns:\n",
    "    - Y_LS_train: Predicted outputs for the training data.\n",
    "    - Y_LS_other: Predicted outputs for the other dataset.\n",
    "    \"\"\"\n",
    "    # Calculate the weights (W) using the pseudo-inverse and regularization\n",
    "    W = np.dot(np.linalg.pinv(np.dot(X_train.T, X_train) + alpha * np.identity(np.shape(X_train)[1])), np.dot(X_train.T, Y_train))\n",
    "\n",
    "\n",
    "    Y_LS_train = np.dot(X_train, W)\n",
    "    Y_LS_other = np.dot(X_other, W)\n",
    "    # Return predictions for both training and other data\n",
    "    return Y_LS_train, Y_LS_other"
   ]
  },
  {
   "cell_type": "code",
   "execution_count": 170,
   "metadata": {
    "id": "8nVlcBC4hqM0"
   },
   "outputs": [],
   "source": [
    "# Function to run OLS, compute MSE, and output results and labels\n",
    "def run_ols(X_train, X_other, Y_train, Y_other, alpha, augment=False):\n",
    "    \"\"\"\n",
    "    Runs the OLS regression, computes the MSE for both training and another dataset (e.g., validation/test), and returns results.\n",
    "\n",
    "    Parameters:\n",
    "    - X_train: The training input data (features).\n",
    "    - X_other: The input data (features) for the other dataset (e.g., validation or test).\n",
    "    - Y_train: The training output data (targets).\n",
    "    - Y_other: The output data (targets) for the other dataset (e.g., validation or test).\n",
    "    - alpha: Regularization parameter (ridge regression).\n",
    "    - augment: Boolean indicating whether to augment data by adding a bias term.\n",
    "\n",
    "    Returns:\n",
    "    - mse_train: Mean squared error on the training set.\n",
    "    - mse_other: Mean squared error on the other dataset.\n",
    "    - Y_LS_train: Predicted outputs for the training data.\n",
    "    - Y_LS_other: Predicted outputs for the other dataset.\n",
    "    \"\"\"\n",
    "    if augment:\n",
    "        # Augment the data by adding a bias term (column of ones)\n",
    "        X_train = augment_data(X_train)\n",
    "        X_other = augment_data(X_other)\n",
    "\n",
    "    # Perform OLS regression to get predictions\n",
    "    Y_LS_train, Y_LS_other = solve_ols(X_train, Y_train, X_other, alpha)\n",
    "\n",
    "    # Compute MSE for train and other datasets\n",
    "    mse_train = compute_mse(Y_LS_train, Y_train)\n",
    "    mse_other = compute_mse(Y_LS_other, Y_other)\n",
    "\n",
    "    # Return the MSE and predictions\n",
    "    return mse_train, mse_other, Y_LS_train, Y_LS_other"
   ]
  },
  {
   "cell_type": "code",
   "execution_count": 172,
   "metadata": {
    "id": "Eba3gdpEhvO5"
   },
   "outputs": [],
   "source": [
    "# Function to compute mean squared error (MSE)\n",
    "def compute_mse(Y_pred, Y_true):\n",
    "    \"\"\"\n",
    "    Computes the Mean Squared Error (MSE) between predicted and true values.\n",
    "\n",
    "    Parameters:\n",
    "    - Y_pred: Predicted values.\n",
    "    - Y_true: True values.\n",
    "\n",
    "    Returns:\n",
    "    - mse: The mean squared error.\n",
    "    \"\"\"\n",
    "    mse = np.square(np.linalg.norm(Y_pred - Y_true)) / Y_true.size\n",
    "    return mse"
   ]
  },
  {
   "cell_type": "code",
   "execution_count": 174,
   "metadata": {
    "id": "i58E89zjhxnQ"
   },
   "outputs": [],
   "source": [
    "# Function to augment data by adding a bias (for non-homogeneous models)\n",
    "def augment_data(X):\n",
    "    \"\"\"\n",
    "    Augments the data by adding a bias column (column of ones).\n",
    "\n",
    "    Parameters:\n",
    "    - X: The input data to augment.\n",
    "\n",
    "    Returns:\n",
    "    - Augmented input data with an added bias column.\n",
    "    \"\"\"\n",
    "    ones_column = np.ones((X.shape[0], 1))\n",
    "    return np.concatenate((X, ones_column), axis=1)"
   ]
  },
  {
   "cell_type": "code",
   "execution_count": 176,
   "metadata": {
    "id": "E24S2BzahztE"
   },
   "outputs": [],
   "source": [
    "# Function to report true and predicted circles\n",
    "def prediction_report(true_data, predicted_data, predicted_data_aug, index):\n",
    "    \"\"\"\n",
    "    Prints a report of true and predicted circle parameters (radius and center coordinates).\n",
    "\n",
    "    Parameters:\n",
    "    - true_data: Array containing true circle parameters (radius, x, y).\n",
    "    - predicted_data: Array containing predicted circle parameters using a homogeneous model.\n",
    "    - predicted_data_aug: Array containing predicted circle parameters using a non-homogeneous model.\n",
    "    - index: Index of the circle data to report.\n",
    "\n",
    "    Outputs:\n",
    "    - Prints the true and predicted values for the selected circle.\n",
    "    \"\"\"\n",
    "    # Extract true and predicted values for the selected index\n",
    "    true_radius, true_x, true_y = true_data[index]\n",
    "    pred_radius, pred_x, pred_y = predicted_data[index]\n",
    "    augp_radius, augp_x, augp_y = predicted_data_aug[index]\n",
    "\n",
    "    # Report the true and predicted values\n",
    "    print(f\"True values - Radius: {true_radius}, x: {true_x}, y: {true_y}\")\n",
    "    print(f\"Predicted homogeneous model values - Radius: {pred_radius:.2f}, x: {pred_x:.2f}, y: {pred_y:.2f}\")\n",
    "    print(f\"Predicted non-homogeneous model values - Radius: {augp_radius:.2f}, x: {augp_x:.2f}, y: {augp_y:.2f}\")"
   ]
  },
  {
   "cell_type": "markdown",
   "metadata": {
    "id": "roajzvS5Ggbr"
   },
   "source": [
    "## Predicting radius, x, and y using OLS"
   ]
  },
  {
   "cell_type": "code",
   "execution_count": 180,
   "metadata": {
    "id": "P8V93nfIHPJI"
   },
   "outputs": [],
   "source": [
    "# Load dataset from the CSV file\n",
    "df = pd.read_csv(csv_filename)  # Load the image data with metadata from a CSV file\n",
    "\n",
    "# Extract features by dropping the target columns ('radius', 'x', 'y')\n",
    "X = df.drop(columns=['radius', 'x', 'y']).values  # Features (only pixel data)\n",
    "\n",
    "# Extract target values (radius, x, and y)\n",
    "Y = df[['radius', 'x', 'y']].values  # Labels (radius, x, and y)"
   ]
  },
  {
   "cell_type": "markdown",
   "metadata": {
    "id": "TmQRTNYVEmYi"
   },
   "source": [
    "\n",
    "\n",
    "1. ### Divide the dataset into three parts: 1800 samples for training, 200 samples for validation, and 200 samples for testing. Perform linear OLS (without regularization) on the training samples twice—first with a homogeneous model (i.e., where the y-intercepts are zero) and then with a non-homogeneous model (allowing for a non-zero y-intercept). Report the MSE on both the training data and the validation data for each model.\n",
    "\n",
    "3. ### Compare the results. Which approach performs better? Why? Apply the better-performing approach to the test set and report the MSE.\n",
    "\n",
    "2. ### Do you observe significant overfitting in any of the cases?\n"
   ]
  },
  {
   "cell_type": "code",
   "execution_count": 183,
   "metadata": {
    "id": "QTEQgRSuHeiP"
   },
   "outputs": [],
   "source": [
    "# Specify the number of training, validation, testing samples.\n",
    "\n",
    "    ############################################################################\n",
    "    ############################################################################\n",
    "    #### Use the variable names \"train_size\", \"valid_size\", and \"test_size\" ####\n",
    "    #### for the training, validation, and test sizes, respectively.        ####\n",
    "    ############################################################################\n",
    "    ############################################################################\n",
    "\n",
    "train_size = 1800\n",
    "valid_size = 200\n",
    "test_size = 200\n",
    "total_size = train_size + valid_size + test_size"
   ]
  },
  {
   "cell_type": "code",
   "execution_count": 20,
   "metadata": {
    "id": "xrSPPiXhurQt"
   },
   "outputs": [],
   "source": [
    "def split_dataset(X, Y, total_size, train_size, valid_size):\n",
    "    \"\"\"\n",
    "    Splits the dataset into training, validation, and test sets.\n",
    "\n",
    "    Parameters:\n",
    "    X (array-like): Feature data.\n",
    "    Y (array-like): Target data.\n",
    "    total_size: Total number of data to consider.\n",
    "    train_size: number of the data to include in the training set.\n",
    "    valid_size: number of the data to include in the validation set.\n",
    "\n",
    "    Returns:\n",
    "    X_train, X_valid, X_test, Y_train, Y_valid, Y_test: Split datasets.\n",
    "\n",
    "    \"\"\"\n",
    "\n",
    "\n",
    "    ##############################################\n",
    "    ##############################################\n",
    "    #### DO NOT CHANGE THE INPUTS AND OUTPUTS ####\n",
    "    ##############################################\n",
    "    ##############################################\n",
    "\n",
    "\n",
    "    X_train, X_temp, Y_train, Y_temp = train_test_split(X, Y, train_size=train_size, random_state=42)\n",
    "    X_valid, X_test, Y_valid, Y_test = train_test_split(X_temp, Y_temp, train_size=valid_size, random_state=42)\n",
    "\n",
    "\n",
    "    return X_train, X_valid, X_test, Y_train, Y_valid, Y_test"
   ]
  },
  {
   "cell_type": "code",
   "execution_count": 187,
   "metadata": {
    "id": "XbXDYykHOIkh"
   },
   "outputs": [],
   "source": [
    "# Here we use the previous function to split our dataset into three parts.\n",
    "X_train, X_valid, X_test, Y_train, Y_valid, Y_test = split_dataset(X, Y, total_size, train_size, valid_size)"
   ]
  },
  {
   "cell_type": "code",
   "execution_count": 189,
   "metadata": {
    "id": "YVVpEyqREXX8"
   },
   "outputs": [
    {
     "name": "stdout",
     "output_type": "stream",
     "text": [
      "Output for Homogeneous Model = MSE Train: 28.36264851950807, MSE Validation: 85.20643869463474\n"
     ]
    }
   ],
   "source": [
    "# Run OLS regression without adding a bias term (homogeneous model)\n",
    "mse_train_hom, mse_valid_hom, Y_train_pred_hom, Y_valid_pred_hom = run_ols(X_train, X_valid, Y_train, Y_valid, alpha=0, augment=False)\n",
    "\n",
    "# Output the results for the homogeneous model\n",
    "print(f\"Output for Homogeneous Model = MSE Train: {mse_train_hom:}, MSE Validation: {mse_valid_hom:}\")"
   ]
  },
  {
   "cell_type": "code",
   "execution_count": 191,
   "metadata": {
    "id": "9gADWceHOGKI"
   },
   "outputs": [
    {
     "name": "stdout",
     "output_type": "stream",
     "text": [
      "Output for Non-Homogeneous Model = MSE Train: 2.813993153679769, MSE Validation: 9.028999194691883\n"
     ]
    }
   ],
   "source": [
    "# Run OLS regression with a bias term added (non-homogeneous model)\n",
    "mse_train_nonhom, mse_valid_nonhom, Y_train_pred_nonhom, Y_valid_pred_nonhom = run_ols(X_train, X_valid, Y_train, Y_valid, alpha=0, augment=True)\n",
    "\n",
    "# Output the results for the non-homogeneous model\n",
    "print(f\"Output for Non-Homogeneous Model = MSE Train: {mse_train_nonhom:}, MSE Validation: {mse_valid_nonhom:}\")"
   ]
  },
  {
   "cell_type": "code",
   "execution_count": 195,
   "metadata": {
    "id": "ztzdrN97AzcL"
   },
   "outputs": [
    {
     "name": "stdin",
     "output_type": "stream",
     "text": [
      "Enter the index for prediction:  2\n"
     ]
    },
    {
     "name": "stdout",
     "output_type": "stream",
     "text": [
      "True values - Radius: 6.0, x: 19.0, y: 7.0\n",
      "Predicted homogeneous model values - Radius: 4.62, x: 9.51, y: -0.07\n",
      "Predicted non-homogeneous model values - Radius: 6.41, x: 18.54, y: 8.78\n"
     ]
    }
   ],
   "source": [
    "# In this code you can see the predictions you've made using your model.\n",
    "\n",
    "# Prompt the user to enter an index for prediction reporting\n",
    "index = int(input(\"Enter the index for prediction: \"))\n",
    "\n",
    "# Generate and print the prediction report for the specified index\n",
    "# Use the prediction_report function and index to see your predictions\n",
    "\n",
    "prediction_report(Y_valid, Y_valid_pred_hom, Y_valid_pred_nonhom, index)"
   ]
  },
  {
   "cell_type": "code",
   "execution_count": 201,
   "metadata": {
    "id": "J2TUoETT6db-"
   },
   "outputs": [
    {
     "name": "stdout",
     "output_type": "stream",
     "text": [
      "Non-Homogeneous model performs better on validation set.\n",
      "MSE on Test Set (Non-Homogeneous): 2.813993153679769\n",
      "Homogeneous Model: Train MSE (28.36264851950807) < Validation MSE (85.20643869463474)\n",
      "Non-Homogeneous Model: Train MSE (2.813993153679769) < Validation MSE (9.028999194691883)\n"
     ]
    }
   ],
   "source": [
    "# Run OLS regression with a bias term added on test set\n",
    "\n",
    "mse_test_nonhom, _, Y_test_pred_nonhom, _ = run_ols(X_train, X_test, Y_train, Y_test, alpha=0, augment=True)\n",
    "\n",
    "# Output the results for the better performing approach\n",
    "if mse_valid_hom < mse_valid_nonhom:\n",
    "    print(\"Homogeneous model performs better on validation set.\")\n",
    "    mse_test_hom, tempx, Y_test_pred_hom, tempy = run_ols(X_train, X_test, Y_train, Y_test, alpha=0, augment=False)\n",
    "    print(f\"MSE on Test Set (Homogeneous): {mse_test_hom:}\")\n",
    "else:\n",
    "    print(\"Non-Homogeneous model performs better on validation set.\")\n",
    "    mse_test_nonhom, tempx, Y_test_pred_nonhom, tempy = run_ols(X_train, X_test, Y_train, Y_test, alpha=0, augment=True)\n",
    "    print(f\"MSE on Test Set (Non-Homogeneous): {mse_test_nonhom:}\")\n",
    "\n",
    "\n",
    "# Check for overfitting\n",
    "def check_overfitting(mse_train, mse_valid, model_name):\n",
    "    if mse_train < mse_valid:\n",
    "        print(f\"{model_name}: Train MSE ({mse_train:}) < Validation MSE ({mse_valid:})\")\n",
    "    else:\n",
    "        print(f\"{model_name}: Train MSE ({mse_train:}) >= Validation MSE ({mse_valid:})\")\n",
    "\n",
    "# Check overfitting for both models\n",
    "check_overfitting(mse_train_hom, mse_valid_hom, \"Homogeneous Model\")\n",
    "check_overfitting(mse_train_nonhom, mse_valid_nonhom, \"Non-Homogeneous Model\")"
   ]
  },
  {
   "cell_type": "markdown",
   "metadata": {
    "id": "3LemqBWFFq5G"
   },
   "source": [
    "1. ### Divide the dataset into three parts: 200 samples for training, 1800 samples for validation, and 200 samples for testing. Perform linear OLS (without regularization) on the training samples twice—first with a homogeneous model (i.e., where the y-intercepts are zero) and then with a non-homogeneous model (allowing for a non-zero y-intercept). Report the MSE on both the training data and the validation data for each model.\n",
    "\n",
    "2. ### Compare these results with those from the previous part. Do you observe less overfitting or more overfitting?"
   ]
  },
  {
   "cell_type": "code",
   "execution_count": 208,
   "metadata": {
    "id": "NAUFgyKqHla4"
   },
   "outputs": [],
   "source": [
    "# Specify the number of training, validation, testing samples.\n",
    "train_size = 200\n",
    "valid_size = 1800\n",
    "test_size = 200"
   ]
  },
  {
   "cell_type": "code",
   "execution_count": 210,
   "metadata": {
    "id": "FmTeeS5fPMny"
   },
   "outputs": [],
   "source": [
    "# Here we use the split_dataset function to split our dataset into three parts.\n",
    "X_train, X_valid, X_test, Y_train, Y_valid, Y_test = split_dataset(X, Y, total_size, train_size, valid_size)"
   ]
  },
  {
   "cell_type": "code",
   "execution_count": 216,
   "metadata": {
    "id": "IXEfgyU1PXzP"
   },
   "outputs": [
    {
     "name": "stdout",
     "output_type": "stream",
     "text": [
      "Homogeneous Model = MSE Train: 3.039759141285649e-27, MSE Validation: 127.73714136092372\n"
     ]
    }
   ],
   "source": [
    "# Run OLS regression without adding a bias term (homogeneous model)\n",
    "mse_train_hom, mse_valid_hom, Y_train_pred_hom, Y_valid_pred_hom = run_ols(X_train, X_valid, Y_train, Y_valid, alpha=0, augment=False)\n",
    "\n",
    "# Output the results for the homogeneous model\n",
    "print(f\"Homogeneous Model = MSE Train: {mse_train_hom:}, MSE Validation: {mse_valid_hom:}\")"
   ]
  },
  {
   "cell_type": "code",
   "execution_count": 218,
   "metadata": {
    "id": "qn2M609vPZ94"
   },
   "outputs": [
    {
     "name": "stdout",
     "output_type": "stream",
     "text": [
      "Non-Homogeneous Model = MSE Train: 4.8962972648371615e-27, MSE Validation: 14.934332285977156\n"
     ]
    }
   ],
   "source": [
    "# Run OLS regression with a bias term added (non-homogeneous model)\n",
    "mse_train_nonhom, mse_valid_nonhom, Y_train_pred_nonhom, Y_valid_pred_nonhom = run_ols(X_train, X_valid, Y_train, Y_valid, alpha=0, augment=True)\n",
    "\n",
    "# Output the results for the non-homogeneous model\n",
    "print(f\"Non-Homogeneous Model = MSE Train: {mse_train_nonhom:}, MSE Validation: {mse_valid_nonhom:}\")"
   ]
  },
  {
   "cell_type": "code",
   "execution_count": 84,
   "metadata": {
    "id": "aka2smhQ0jBo"
   },
   "outputs": [
    {
     "name": "stdin",
     "output_type": "stream",
     "text": [
      "Enter the index for prediction:  2\n",
      "Enter the index for prediction:  2\n"
     ]
    },
    {
     "name": "stdout",
     "output_type": "stream",
     "text": [
      "True values - Radius: 10.0, x: 19.0, y: 12.0\n",
      "Predicted homogeneous model values - Radius: 10.61, x: 23.55, y: 10.23\n",
      "Predicted non-homogeneous model values - Radius: 10.00, x: 20.47, y: 7.04\n"
     ]
    }
   ],
   "source": [
    "# In this code you can see the predictions you've made using your model.\n",
    "\n",
    "# Prompt the user to enter an index for prediction reporting\n",
    "index = int(input(\"Enter the index for prediction: \"))\n",
    "\n",
    "# Generate and print the prediction report for the specified index\n",
    "# Use the prediction_report function and index to see your predictions\n",
    "\n",
    "prediction_report(Y_valid, Y_valid_pred_hom, Y_valid_pred_nonhom, index)"
   ]
  },
  {
   "cell_type": "code",
   "execution_count": 220,
   "metadata": {
    "id": "t8HnRa8T7uIX"
   },
   "outputs": [
    {
     "name": "stdout",
     "output_type": "stream",
     "text": [
      "Non-Homogeneous model performs better on validation set.\n",
      "MSE on Test Set (Non-Homogeneous): 4.8962972648371615e-27\n",
      "Homogeneous Model: Train MSE (3.039759141285649e-27) < Validation MSE (127.7371)\n",
      "Non-Homogeneous Model: Train MSE (4.8962972648371615e-27) < Validation MSE (14.9343)\n"
     ]
    }
   ],
   "source": [
    "# Run OLS regression with a bias term added on test set\n",
    "# Since non-homogeneous model was better-performing approach, we applied to the test set \n",
    "mse_test_nonhom, _, Y_test_pred_nonhom, _ = run_ols(X_train, X_test, Y_train, Y_test, alpha=0, augment=True)\n",
    "\n",
    "# Output the results for the better performing approach\n",
    "#check to make sure which model was better-performing approach just in case\n",
    "if mse_valid_hom < mse_valid_nonhom:\n",
    "    print(\"Homogeneous model performs better on validation set.\")\n",
    "    mse_test_hom, _, Y_test_pred_hom, _ = run_ols(X_train, X_test, Y_train, Y_test, alpha=0, augment=False)\n",
    "    print(f\"MSE on Test Set (Homogeneous): {mse_test_hom:}\")\n",
    "else:\n",
    "    print(\"Non-Homogeneous model performs better on validation set.\")\n",
    "    mse_test_nonhom, _, Y_test_pred_nonhom, _ = run_ols(X_train, X_test, Y_train, Y_test, alpha=0, augment=True)\n",
    "    print(f\"MSE on Test Set (Non-Homogeneous): {mse_test_nonhom:}\")\n",
    "\n",
    "\n",
    "# Check for overfitting\n",
    "def check_overfitting(mse_train, mse_valid, model_name):\n",
    "    if mse_train < mse_valid:\n",
    "        print(f\"{model_name}: Train MSE ({mse_train:}) < Validation MSE ({mse_valid:.4f})\")\n",
    "    else:\n",
    "        print(f\"{model_name}: Train MSE ({mse_train:}) >= Validation MSE ({mse_valid:.4f})\")\n",
    "\n",
    "# Check overfitting for both models\n",
    "check_overfitting(mse_train_hom, mse_valid_hom, \"Homogeneous Model\")\n",
    "check_overfitting(mse_train_nonhom, mse_valid_nonhom, \"Non-Homogeneous Model\")"
   ]
  },
  {
   "cell_type": "markdown",
   "metadata": {
    "id": "cQCxA56yG7LH"
   },
   "source": [
    "# Regularized Least Squares"
   ]
  },
  {
   "cell_type": "code",
   "execution_count": 92,
   "metadata": {
    "id": "LkvOHV4UHH3s"
   },
   "outputs": [],
   "source": [
    "# Load dataset from the CSV file\n",
    "df = pd.read_csv(csv_filename)  # Load the image data with metadata from a CSV file\n",
    "\n",
    "# Extract features by dropping the target columns ('radius', 'x', 'y')\n",
    "X = df.drop(columns=['radius', 'x', 'y']).values  # Features (only pixel data)\n",
    "\n",
    "# Extract target values (radius, x, and y)\n",
    "Y = df[['radius', 'x', 'y']].values  # Labels (radius, x, and y)"
   ]
  },
  {
   "cell_type": "markdown",
   "metadata": {
    "id": "40bUV0trHzgW"
   },
   "source": [
    "1. ### Divide the Dataset into Three Parts:\n",
    "- **Training Data**: Select **200 data points**.\n",
    "- **Validation Data**: Assign **1800 data points**.\n",
    "- **Testing Data**: Set aside the **remaining 200 data points** for testing.\n",
    "\n",
    "\n",
    "2. ### Run Regularized Least Squares (non-homogeneous) using 200 training data points. Choose various values of lambda within the range {exp(-2), exp(-1.5), exp(-1), …, exp(3.5), exp(4)}. This corresponds to λ values ranging from exp(-2) to exp(4) with a step size of 0.5. For each value of lambda, Run Regularized Least Squares (non-homogeneous) using 200 training data points. Compute the Training MSE and Validation MSE.\n",
    "\n",
    "\n",
    "3. ### Plot the Training MSE and Validation MSE as functions of lambda.\n"
   ]
  },
  {
   "cell_type": "code",
   "execution_count": 237,
   "metadata": {
    "id": "YPAVI7m18Ggv"
   },
   "outputs": [],
   "source": [
    "# Specify the number of training, validation, testing samples.\n",
    "train_size = 200\n",
    "valid_size = 1800\n",
    "test_size = 200\n",
    "total_size = train_size + valid_size + test_size"
   ]
  },
  {
   "cell_type": "code",
   "execution_count": 239,
   "metadata": {
    "id": "SuuzU8cZ8H5w"
   },
   "outputs": [],
   "source": [
    "# Here we use the split_dataset function to split our dataset into three parts.\n",
    "X_train, X_valid, X_test, Y_train, Y_valid, Y_test = split_dataset(X, Y, total_size, train_size, valid_size)"
   ]
  },
  {
   "cell_type": "code",
   "execution_count": 243,
   "metadata": {
    "id": "B8tHdr-RHyen"
   },
   "outputs": [
    {
     "data": {
      "image/png": "[encoded data removed]",
      "text/plain": [
       "<Figure size 1000x600 with 1 Axes>"
      ]
     },
     "metadata": {},
     "output_type": "display_data"
    }
   ],
   "source": [
    "# Define a range of alpha values (regularization parameters) using an exponential scale  \n",
    "\n",
    "    ###############################################\n",
    "    ###############################################\n",
    "    #### HINT: you can use the np.exp function ####\n",
    "    ###############################################\n",
    "    ###############################################\n",
    "\n",
    "alphas = np.exp(np.arange(-2, 4, 0.5))  # From exp(-2) to exp(4) with a step of 0.5  \n",
    "\n",
    "# Lists to store MSE values\n",
    "train_mse = []\n",
    "valid_mse = []\n",
    "\n",
    "# Iterate over the range of alpha values\n",
    "for alpha in alphas:\n",
    "\n",
    "  # Run RLS regression with a bias term added on train and validation sets\n",
    "    \n",
    "    mse_train, mse_valid, _, _ = run_ols(X_train, X_valid, Y_train, Y_valid, alpha=alpha, augment=True)\n",
    "    \n",
    "    # Store the MSE values\n",
    "    train_mse.append(mse_train)\n",
    "    valid_mse.append(mse_valid)\n",
    "\n",
    "# Plot the MSE for the non-homogeneous model across different alphas\n",
    "plt.figure(figsize=(10, 6))\n",
    "plt.plot(alphas, train_mse, label='Training MSE', marker='o')\n",
    "plt.plot(alphas, valid_mse, label='Validation MSE', marker='o')\n",
    "plt.xlabel('Alpha')\n",
    "plt.ylabel('Mean Squared Error (MSE)')\n",
    "plt.title('Training and Validation MSE vs Alpha')\n",
    "plt.legend()\n",
    "plt.grid(True)\n",
    "plt.show()"
   ]
  },
  {
   "cell_type": "code",
   "execution_count": 249,
   "metadata": {
    "id": "H00qLoDt-vjh"
   },
   "outputs": [
    {
     "name": "stdout",
     "output_type": "stream",
     "text": [
      "Best lambda: 7.38905609893065 with Validation MSE: 10.031120033315162\n"
     ]
    }
   ],
   "source": [
    "# Here you find the best value of lambda\n",
    "\n",
    "best_index = np.argmin(valid_mse)\n",
    "best_lambda = alphas[best_index]\n",
    "\n",
    "print(f\"Best lambda: {best_lambda:} with Validation MSE: {valid_mse[best_index]:}\")"
   ]
  },
  {
   "cell_type": "code",
   "execution_count": 251,
   "metadata": {
    "id": "HKPn0yjm-6tb"
   },
   "outputs": [
    {
     "name": "stdout",
     "output_type": "stream",
     "text": [
      "Test MSE with best lambda (7.38905609893065): 50.03155055127271\n"
     ]
    }
   ],
   "source": [
    "# Run OLS regression with the best alpha on the test set\n",
    "Y_LS_test = solve_ols(X_train, Y_train, X_test,best_lambda)\n",
    "\n",
    "# Calculate the MSE on the test set\n",
    "test_mse = np.mean((Y_LS_test - Y_test) ** 2)\n",
    "\n",
    "# Output the results for the non-homogeneous model\n",
    "print(f\"Test MSE with best lambda ({best_lambda:}): {test_mse:}\")"
   ]
  },
  {
   "cell_type": "markdown",
   "metadata": {
    "id": "A3vjcNr0p0Q6"
   },
   "source": [
    "## In this part, we aim to improve the results of Regularized Least Squares (RLS) while still using only 200 training points and 1800 validation points. To achieve this, we will map the data points into a new space and then run RLS. In other words, we will preprocess X_train, X_valid, and X_test to obtain new Z_train, Z_valid, and Z_test datasets, which will have the same number of points but a different number of features.\n"
   ]
  },
  {
   "cell_type": "markdown",
   "metadata": {
    "id": "_yrmVcW2J_fe"
   },
   "source": [
    "## Choose a preprocessing approach (i.e., select a mapping) that transforms the 900-dimensional data points (900 pixels) into a new space. This new space can be either lower-dimensional or higher-dimensional."
   ]
  },
  {
   "cell_type": "code",
   "execution_count": 253,
   "metadata": {},
   "outputs": [
    {
     "name": "stdout",
     "output_type": "stream",
     "text": [
      "Original X_train shape: (200, 900)\n",
      "Transformed Z_train shape: (200, 406351)\n",
      "Transformed Z_valid shape: (1800, 406351)\n",
      "Transformed Z_test shape: (200, 406351)\n"
     ]
    }
   ],
   "source": [
    "from sklearn.preprocessing import PolynomialFeatures\n",
    "\n",
    "poly = PolynomialFeatures(degree=2, include_bias=True)\n",
    "Z_train = poly.fit_transform(X_train)\n",
    "Z_valid = poly.transform(X_valid)\n",
    "Z_test = poly.transform(X_test)\n",
    "\n",
    "# Output the shapes of the new datasets\n",
    "print(f\"Original X_train shape: {X_train.shape}\")\n",
    "print(f\"Transformed Z_train shape: {Z_train.shape}\")\n",
    "print(f\"Transformed Z_valid shape: {Z_valid.shape}\")\n",
    "print(f\"Transformed Z_test shape: {Z_test.shape}\")"
   ]
  },
  {
   "cell_type": "markdown",
   "metadata": {
    "id": "uMjRrE4PJjWE"
   },
   "source": [
    "## Implement the preprocessing approach. Then, run non-homogeneous Regularized Least Squares (RLS) in the new space for training set and validation set."
   ]
  },
  {
   "cell_type": "code",
   "execution_count": 256,
   "metadata": {
    "id": "Wpi1AlTupy7t"
   },
   "outputs": [
    {
     "name": "stdout",
     "output_type": "stream",
     "text": [
      "[[1. 0. 0. ... 0. 0. 0.]\n",
      " [1. 0. 0. ... 0. 0. 0.]\n",
      " [1. 0. 0. ... 0. 0. 0.]\n",
      " [1. 0. 0. ... 0. 0. 0.]\n",
      " [1. 0. 0. ... 0. 0. 0.]]\n"
     ]
    }
   ],
   "source": [
    "# Load dataset from the CSV file\n",
    "df = pd.read_csv(csv_filename)  # Load the image data with metadata from a CSV file\n",
    "\n",
    "# Extract features by dropping the target columns ('radius', 'x', 'y')\n",
    "X = df.drop(columns=['radius', 'x', 'y']).values  # Features (only pixel data)\n",
    "\n",
    "# Extract target values (radius, x, and y)\n",
    "Y = df[['radius', 'x', 'y']].values  # Labels (radius, x, and y)\n",
    "\n",
    "# Define a function to transforms pixel values to a new space.\n",
    "def transform(X_df):\n",
    "\n",
    "    poly = PolynomialFeatures(degree=2, include_bias=True)\n",
    "    processed_X_df = poly.fit_transform(X_df)\n",
    "\n",
    "    return processed_X_df\n",
    "\n",
    "# Apply the transform function to the DataFrame\n",
    "processed_X_df = transform(X)\n",
    "\n",
    "# Display the first few rows of the updated DataFrame\n",
    "print(processed_X_df[:5])  # Display first 5 rows of transformed data"
   ]
  },
  {
   "cell_type": "markdown",
   "metadata": {
    "id": "aq8QgowJwriU"
   },
   "source": [
    "## Report the MSE on the training and validation sets for different values of lambda and plot it. Choose the best value of lambda, apply the preprocessing approach to the test set, and then report the MSE after running RLS.\n"
   ]
  },
  {
   "cell_type": "code",
   "execution_count": 258,
   "metadata": {
    "id": "c5hTDDY8R8sq"
   },
   "outputs": [],
   "source": [
    "# Specify the number of training, validation, testing samples.\n",
    "\n",
    "total_size = len(processed_X_df)\n",
    "train_size = int(0.7 * total_size)\n",
    "valid_size = int(0.15 * total_size)"
   ]
  },
  {
   "cell_type": "code",
   "execution_count": 260,
   "metadata": {
    "id": "735hxlxUR_GJ"
   },
   "outputs": [],
   "source": [
    "########################################################\n",
    "########################################################\n",
    "#### Please take note that we insert processed_X_df ####\n",
    "#### as the new input for splitting                 ####\n",
    "########################################################\n",
    "########################################################\n",
    "X_train, X_valid, X_test, Y_train, Y_valid, Y_test = split_dataset(processed_X_df, Y, total_size, train_size, valid_size)"
   ]
  },
  {
   "cell_type": "code",
   "execution_count": 261,
   "metadata": {
    "id": "DOzgptq5SNOf"
   },
   "outputs": [
    {
     "name": "stdout",
     "output_type": "stream",
     "text": [
      "Training with alpha: 0.1353352832366127\n",
      "Training with alpha: 0.22313016014842982\n",
      "Training with alpha: 0.36787944117144233\n",
      "Training with alpha: 0.6065306597126334\n",
      "Training with alpha: 1.0\n",
      "Training with alpha: 1.6487212707001282\n",
      "Training with alpha: 2.718281828459045\n",
      "Training with alpha: 4.4816890703380645\n",
      "Training with alpha: 7.38905609893065\n",
      "Training with alpha: 12.182493960703473\n",
      "Training with alpha: 20.085536923187668\n",
      "Training with alpha: 33.11545195869231\n"
     ]
    }
   ],
   "source": [
    "from sklearn.linear_model import Ridge\n",
    "from sklearn.metrics import mean_squared_error\n",
    "\n",
    "# Define a range of alpha values (regularization parameters) using an exponential scale\n",
    "alphas = np.exp(np.arange(-2, 4, 0.5))  # Values from exp(-2) to exp(4)\n",
    "\n",
    "train_mse = []\n",
    "valid_mse = []\n",
    "\n",
    "# Iterate over the range of alpha values\n",
    "for alpha in alphas:\n",
    "    print(f\"Training with alpha: {alpha}\")  # Debugging\n",
    "    model = Ridge(alpha=alpha)\n",
    "\n",
    "    model.fit(X_train, Y_train)\n",
    "\n",
    "    # Predict on training and validation sets\n",
    "    Y_train_pred = model.predict(X_train)\n",
    "    Y_valid_pred = model.predict(X_valid)\n",
    "\n",
    "    # Calculate MSE\n",
    "    mse_train = mean_squared_error(Y_train, Y_train_pred)\n",
    "    mse_valid = mean_squared_error(Y_valid, Y_valid_pred)\n",
    "\n",
    "    train_mse.append(mse_train)\n",
    "    valid_mse.append(mse_valid)\n"
   ]
  },
  {
   "cell_type": "code",
   "execution_count": 264,
   "metadata": {
    "id": "7kxj3b-HuAM8"
   },
   "outputs": [
    {
     "data": {
      "image/png": "[encoded data removed]",
      "text/plain": [
       "<Figure size 1000x600 with 1 Axes>"
      ]
     },
     "metadata": {},
     "output_type": "display_data"
    }
   ],
   "source": [
    "# Plot the MSE for training and validation sets across different alphas\n",
    "plt.figure(figsize=(10, 6))\n",
    "plt.plot(alphas, train_mse, label='Training MSE', marker='o')\n",
    "plt.plot(alphas, valid_mse, label='Validation MSE', marker='o')\n",
    "plt.xlabel('Alpha')\n",
    "plt.ylabel('Mean Squared Error (MSE)')\n",
    "plt.title('Training and Validation MSE vs Alpha')\n",
    "plt.legend()\n",
    "plt.grid(True)\n",
    "plt.show()"
   ]
  },
  {
   "cell_type": "code",
   "execution_count": 147,
   "metadata": {
    "id": "pF4SS7GoBmMU"
   },
   "outputs": [
    {
     "name": "stdout",
     "output_type": "stream",
     "text": [
      "Best alpha: 1.6487212707001282\n",
      "Test MSE: 6.111938862954151\n"
     ]
    }
   ],
   "source": [
    "# Here you find the best value of lambda\n",
    "\n",
    "# Determine the best alpha based on validation MSE\n",
    "best_alpha_index = np.argmin(valid_mse)\n",
    "best_alpha = alphas[best_alpha_index]\n",
    "print(f\"Best alpha: {best_alpha}\")\n",
    "\n",
    "# Train final model with the best alpha\n",
    "model_best = Ridge(alpha=best_alpha)\n",
    "model_best.fit(X_train, Y_train)\n",
    "\n",
    "# Evaluate on the test set\n",
    "Y_test_pred = model_best.predict(X_test)\n",
    "mse_test = mean_squared_error(Y_test, Y_test_pred)\n",
    "print(f\"Test MSE: {mse_test}\")"
   ]
  },
  {
   "cell_type": "code",
   "execution_count": null,
   "metadata": {},
   "outputs": [],
   "source": []
  }
 ],
 "metadata": {
  "accelerator": "GPU",
  "colab": {
   "gpuType": "T4",
   "provenance": []
  },
  "kernelspec": {
   "display_name": "Python 3 (ipykernel)",
   "language": "python",
   "name": "python3"
  },
  "language_info": {
   "codemirror_mode": {
    "name": "ipython",
    "version": 3
   },
   "file_extension": ".py",
   "mimetype": "text/x-python",
   "name": "python",
   "nbconvert_exporter": "python",
   "pygments_lexer": "ipython3",
   "version": "3.12.4"
  }
 },
 "nbformat": 4,
 "nbformat_minor": 4
}
